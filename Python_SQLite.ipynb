{
  "cells": [
    {
      "cell_type": "markdown",
      "source": [
        "# Python com sqlite3\n",
        "## Os exemplos são da documentação official\n",
        "link da documentação https://docs.python.org/3/library/sqlite3.html\n"
      ],
      "metadata": {
        "id": "4hHWxVRU-JRt"
      }
    },
    {
      "cell_type": "code",
      "execution_count": 25,
      "metadata": {
        "id": "56WZSAHCdMRi"
      },
      "outputs": [],
      "source": [
        "# Importando a biblioteca\n",
        "import sqlite3"
      ]
    },
    {
      "cell_type": "markdown",
      "source": [
        "## Criando a conexação com o banco de dados"
      ],
      "metadata": {
        "id": "vLuwxAFUgsGg"
      }
    },
    {
      "cell_type": "markdown",
      "source": [
        "Se o arquivo não exister, é criado automaticamento.\n",
        "extensões: .db, .sqlite, ...\n",
        "\n",
        "Ex: `conexao = sqlite3.connect('exemplo.db')`\n",
        "\n",
        "O nome de caminho especial :memory: pode ser fornecido para criar um banco de dados temporário na RAM:\n",
        "https://docs.python.org/3/library/sqlite3.html#:~:text=The%20special%20path%20name%20%3Amemory%3A%20can%20be%20provided%20to%20create%20a%20temporary%20database%20in%20RAM."
      ],
      "metadata": {
        "id": "v1C23jukqY3q"
      }
    },
    {
      "cell_type": "code",
      "source": [
        "conexao = sqlite3.connect(':memory:')"
      ],
      "metadata": {
        "id": "Kqredgo5iRQW"
      },
      "execution_count": 26,
      "outputs": []
    },
    {
      "cell_type": "markdown",
      "source": [
        "Uma vez que uma conexão foi estabelecida, crie um objeto Cursor e utilize o  método `execute()` para executar comandos SQL\n",
        "\n",
        "Ex: `cursor.execute('Comando SQL')`"
      ],
      "metadata": {
        "id": "InwKmc5EiFDF"
      }
    },
    {
      "cell_type": "code",
      "source": [
        "cursor = conexao.cursor()"
      ],
      "metadata": {
        "id": "I-QJkNkz7LzL"
      },
      "execution_count": 27,
      "outputs": []
    },
    {
      "cell_type": "markdown",
      "source": [
        "## Criando uma tabela"
      ],
      "metadata": {
        "id": "OwapblF0j7sZ"
      }
    },
    {
      "cell_type": "markdown",
      "source": [
        "\n",
        "\n",
        "A instrução `CREATE TABLE` cria uma tabela no banco de dados e entre os parênteses ficam os campos (colunas/columns)\n",
        "\n",
        "Ex: `CREATE TABLE <nome da tabela> (campo1, campo2);`"
      ],
      "metadata": {
        "id": "s2xoD1QUicGH"
      }
    },
    {
      "cell_type": "code",
      "source": [
        "cursor.execute(\"\"\"\n",
        "    CREATE TABLE STOCKS (\n",
        "        date DATE, \n",
        "        trans VARCHAR (30),\n",
        "        symbol VARCHAR (30), \n",
        "        qty INTEGER, \n",
        "        price DECIMAL\n",
        "        );\n",
        "\"\"\")"
      ],
      "metadata": {
        "colab": {
          "base_uri": "https://localhost:8080/"
        },
        "id": "N59w9-OaijfE",
        "outputId": "95bfd5c1-c950-4950-e16b-387a025c4123"
      },
      "execution_count": 28,
      "outputs": [
        {
          "output_type": "execute_result",
          "data": {
            "text/plain": [
              "<sqlite3.Cursor at 0x7f48ecf083b0>"
            ]
          },
          "metadata": {},
          "execution_count": 28
        }
      ]
    },
    {
      "cell_type": "markdown",
      "source": [
        "## Inserindo um registro"
      ],
      "metadata": {
        "id": "nzv1mlc1jTVl"
      }
    },
    {
      "cell_type": "markdown",
      "source": [
        "A instrução INSERT é utilizada para inserir um registro (linha/row) na tabela\n",
        "\n",
        "Ex: \n",
        "```\n",
        "INSERT INTO <nome da tabela> (' nome dos campos separados por \",\" ') \n",
        "VALUES (' valores ');\n",
        "```\n",
        "Inserir o nome dos campos é opcional para inserior os dados"
      ],
      "metadata": {
        "id": "eSGY404qkf7I"
      }
    },
    {
      "cell_type": "code",
      "source": [
        "cursor.execute(\"\"\"\n",
        "    INSERT INTO STOCKS\n",
        "    VALUES ('2006-01-05','BUY','RHAT',100,35.14);\n",
        "\"\"\")"
      ],
      "metadata": {
        "colab": {
          "base_uri": "https://localhost:8080/"
        },
        "id": "Mq852MOGDI2A",
        "outputId": "e9ee7124-6f34-4b0c-9fb6-1cc78fdbc68c"
      },
      "execution_count": 29,
      "outputs": [
        {
          "output_type": "execute_result",
          "data": {
            "text/plain": [
              "<sqlite3.Cursor at 0x7f48ecf083b0>"
            ]
          },
          "metadata": {},
          "execution_count": 29
        }
      ]
    },
    {
      "cell_type": "markdown",
      "source": [
        "## Realizado uma consulta (query)"
      ],
      "metadata": {
        "id": "EvV1stibl3YF"
      }
    },
    {
      "cell_type": "markdown",
      "source": [
        "Realizando uma consulta no banco de dados com a instrução SELECT\n",
        "\n",
        "Ex: `SELECT * FROM <nome da tabela>;`\n",
        "\n",
        "O '*' seleciona todos os campos (colunas/columns) da tabela, no lugar dele pode inserior o nome dos campos que você deseja"
      ],
      "metadata": {
        "id": "mQmx6M31mAac"
      }
    },
    {
      "cell_type": "code",
      "source": [
        "\n",
        "cursor.execute('SELECT * FROM STOCKS;')\n",
        "\n",
        "# cursor.fetchone() retorna um único registro (linha/row) da tabela\n",
        "# O indice das tuplas são correspondentes aos campos: date, trans, symbol, qty, price\n",
        "print(cursor.fetchone())"
      ],
      "metadata": {
        "colab": {
          "base_uri": "https://localhost:8080/"
        },
        "id": "-ydIScCzFHcY",
        "outputId": "74084a2d-2a3c-4bfe-c775-c7d822ef359e"
      },
      "execution_count": 30,
      "outputs": [
        {
          "output_type": "stream",
          "name": "stdout",
          "text": [
            "('2006-01-05', 'BUY', 'RHAT', 100, 35.14)\n"
          ]
        }
      ]
    },
    {
      "cell_type": "code",
      "source": [
        "# cursor.fetchall() retorna uma lista de tuplas\n",
        "# de todos os registros da tabela\n",
        "cursor.execute('SELECT * FROM STOCKS;')\n",
        "\n",
        "print(cursor.fetchall())"
      ],
      "metadata": {
        "colab": {
          "base_uri": "https://localhost:8080/"
        },
        "id": "LIKv6KSzHdgt",
        "outputId": "dc3f6f81-d878-4811-96be-755f522239b8"
      },
      "execution_count": 31,
      "outputs": [
        {
          "output_type": "stream",
          "name": "stdout",
          "text": [
            "[('2006-01-05', 'BUY', 'RHAT', 100, 35.14)]\n"
          ]
        }
      ]
    },
    {
      "cell_type": "markdown",
      "source": [
        "## Inserindo vários registros"
      ],
      "metadata": {
        "id": "MPnqX_TFm0UI"
      }
    },
    {
      "cell_type": "markdown",
      "source": [
        "Utilize o método `executemany()` do cursor para inserior vários valores."
      ],
      "metadata": {
        "id": "BLntfgzenAj7"
      }
    },
    {
      "cell_type": "code",
      "source": [
        "operacoes = [\n",
        "    ('2006-01-05', 'BUY', 'RHAT', 100, 35.14),\n",
        "    ('2006-03-28', 'BUY', 'IBM', 1000, 45.0),\n",
        "    ('2006-04-06', 'SELL', 'IBM', 500, 53.0),\n",
        "    ('2006-04-05', 'BUY', 'MSFT', 1000, 72.0)\n",
        "]\n",
        "\n",
        "# Colocar as interrogações que correspondem ao número de itens na tupla\n",
        "# tupla com 5 valores = 5 interrogações.\n",
        "# Os valores serão passados como segundo parametro dentro de executemany().\n",
        "# Esse método é mais recomendado para inputs do usuário por motivos de\n",
        "# segurança (SQLInjection https://pt.wikipedia.org/wiki/Inje%C3%A7%C3%A3o_de_SQL).\n",
        "cursor.executemany(\"\"\"\n",
        "    INSERT INTO STOCKS (date, trans, symbol, qty, price)\n",
        "    VALUES (?, ?, ?, ?, ?)\n",
        "\"\"\", operacoes)"
      ],
      "metadata": {
        "colab": {
          "base_uri": "https://localhost:8080/"
        },
        "id": "kkqvHa_sIQlf",
        "outputId": "ff6cf36a-2b7f-4af9-a7da-03a5246bc78f"
      },
      "execution_count": 36,
      "outputs": [
        {
          "output_type": "execute_result",
          "data": {
            "text/plain": [
              "<sqlite3.Cursor at 0x7f48ecf083b0>"
            ]
          },
          "metadata": {},
          "execution_count": 36
        }
      ]
    },
    {
      "cell_type": "code",
      "source": [
        "# O cursor pode ser usado como iterador\n",
        "# https://docs.python.org/3/library/sqlite3.html#:~:text=To%20retrieve%20data,the%20iterator%20form%3A\n",
        "\n",
        "cursor.execute('SELECT * FROM STOCKS')\n",
        "print(cursor.fetchall())"
      ],
      "metadata": {
        "colab": {
          "base_uri": "https://localhost:8080/"
        },
        "id": "xhNCJnpNJVhK",
        "outputId": "93731e0c-2f7d-4d36-b962-8403a1964334"
      },
      "execution_count": 37,
      "outputs": [
        {
          "output_type": "stream",
          "name": "stdout",
          "text": [
            "[('2006-01-05', 'BUY', 'RHAT', 100, 35.14), ('2006-01-05', 'BUY', 'RHAT', 100, 35.14), ('2006-03-28', 'BUY', 'IBM', 1000, 45), ('2006-04-06', 'SELL', 'IBM', 500, 53), ('2006-04-05', 'BUY', 'MSFT', 1000, 72), ('2006-01-05', 'BUY', 'RHAT', 100, 35.14), ('2006-03-28', 'BUY', 'IBM', 1000, 45), ('2006-04-06', 'SELL', 'IBM', 500, 53), ('2006-04-05', 'BUY', 'MSFT', 1000, 72)]\n"
          ]
        }
      ]
    },
    {
      "cell_type": "markdown",
      "source": [
        "## Salvando as alterações"
      ],
      "metadata": {
        "id": "ti7cOXlAqQei"
      }
    },
    {
      "cell_type": "markdown",
      "source": [
        "Se as alterações não forem salvas o banco de dados não irá grava-las. Utilizamos o método `commit()` do objeto Connection para isso."
      ],
      "metadata": {
        "id": "nBDJyi9yrFNv"
      }
    },
    {
      "cell_type": "code",
      "source": [
        "conexao.commit()"
      ],
      "metadata": {
        "id": "5-gLnNHWESXE"
      },
      "execution_count": 38,
      "outputs": []
    },
    {
      "cell_type": "markdown",
      "source": [
        "Lembre-se de fechar o cursor e a conexão com o banco de dados"
      ],
      "metadata": {
        "id": "tbH0PgpFsOLd"
      }
    },
    {
      "cell_type": "code",
      "source": [
        "cursor.close()\n",
        "conexao.close()"
      ],
      "metadata": {
        "id": "qDugbFrPsO0k"
      },
      "execution_count": 39,
      "outputs": []
    }
  ],
  "metadata": {
    "colab": {
      "collapsed_sections": [
        "vLuwxAFUgsGg"
      ],
      "name": "Python/SQLite.ipynb",
      "provenance": []
    },
    "kernelspec": {
      "display_name": "Python 3",
      "name": "python3"
    },
    "language_info": {
      "name": "python"
    }
  },
  "nbformat": 4,
  "nbformat_minor": 0
}